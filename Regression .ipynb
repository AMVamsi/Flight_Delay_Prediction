{
 "cells": [
  {
   "cell_type": "markdown",
   "metadata": {},
   "source": [
    "# Regression "
   ]
  },
  {
   "cell_type": "code",
   "execution_count": null,
   "metadata": {},
   "outputs": [],
   "source": [
    "import pandas as pd\n",
    "import numpy as np\n",
    "import imblearn\n",
    "import matplotlib.pyplot as plt\n",
    "from sklearn.model_selection import train_test_split\n",
    "from sklearn.ensemble import RandomForestClassifier, AdaBoostClassifier\n",
    "from sklearn.metrics import accuracy_score\n",
    "from sklearn.preprocessing import OneHotEncoder\n",
    "from sklearn.preprocessing import LabelEncoder\n",
    "from sklearn.metrics import mean_squared_error, r2_score\n",
    "from sklearn.metrics import mean_absolute_error"
   ]
  },
  {
   "cell_type": "code",
   "execution_count": null,
   "metadata": {},
   "outputs": [],
   "source": [
    "df=pd.DataFrame()\n",
    "df=pd.read_csv(\"/Users/msml/Vamsi/SF/SF_Projects/fiiiiiinallll.csv\")\n",
    "df"
   ]
  },
  {
   "cell_type": "code",
   "execution_count": null,
   "metadata": {},
   "outputs": [],
   "source": [
    "d = df.drop([\"Quarter\", \"Year\",\"ArrTime\", \"DepTime\", \"Month\", \"DayofMonth\", \"DepDel15\", \"Date\", \"Airport_y\",\"Airport_x\"],axis=1)\n",
    "d"
   ]
  },
  {
   "cell_type": "code",
   "execution_count": null,
   "metadata": {},
   "outputs": [],
   "source": [
    "train, test = train_test_split(d, test_size=0.2, random_state=42)"
   ]
  },
  {
   "cell_type": "code",
   "execution_count": null,
   "metadata": {},
   "outputs": [],
   "source": [
    "#taking delay data to train the model\n",
    "delay = train.loc[train[\"ArrDel15\"] == 1]"
   ]
  },
  {
   "cell_type": "code",
   "execution_count": null,
   "metadata": {},
   "outputs": [],
   "source": [
    "dt=pd.DataFrame(delay)\n",
    "dt"
   ]
  },
  {
   "cell_type": "code",
   "execution_count": null,
   "metadata": {},
   "outputs": [],
   "source": [
    "labels_train= np.asarray(dt[\"ArrDelayMinutes\"])\n",
    "dt_select = dt.drop([\"ArrDelayMinutes\"],axis=1)\n",
    "lenc = LabelEncoder()\n",
    "intenc = lenc.fit_transform(dt_select[\"DestAirportID\"])\n",
    "dt_select[\"DestAirportID\"] = intenc\n",
    "intenc = lenc.fit_transform(dt_select[\"OriginAirportID\"])\n",
    "dt_select[\"OriginAirportID\"] = intenc\n",
    "intenc = lenc.fit_transform(dt_select[\"winddirDegree_x\"])\n",
    "dt_select[\"winddirDegree_x\"] = intenc\n",
    "intenc = lenc.fit_transform(dt_select[\"weatherCode_x\"])\n",
    "dt_select[\"weatherCode_x\"] = intenc\n",
    "intenc = lenc.fit_transform(dt_select[\"winddirDegree_y\"])\n",
    "dt_select[\"winddirDegree_y\"] = intenc\n",
    "intenc = lenc.fit_transform(dt_select[\"weatherCode_y\"])\n",
    "dt_select[\"weatherCode_y\"] = intenc\n",
    "features_train = np.asarray(dt_select)"
   ]
  },
  {
   "cell_type": "code",
   "execution_count": null,
   "metadata": {},
   "outputs": [],
   "source": [
    "dr=pd.DataFrame(test)\n",
    "dr"
   ]
  },
  {
   "cell_type": "code",
   "execution_count": null,
   "metadata": {},
   "outputs": [],
   "source": [
    "label_test = np.asarray(dr[\"ArrDelayMinutes\"])\n",
    "dr_select = dr.drop([\"ArrDelayMinutes\"],axis=1)\n",
    "lenc = LabelEncoder()\n",
    "intenc = lenc.fit_transform(dr_select[\"DestAirportID\"])\n",
    "dr_select[\"DestAirportID\"] = intenc\n",
    "intenc = lenc.fit_transform(dr_select[\"OriginAirportID\"])\n",
    "dr_select[\"OriginAirportID\"] = intenc\n",
    "feature_test = np.asarray(dr_select)"
   ]
  },
  {
   "cell_type": "markdown",
   "metadata": {},
   "source": [
    "## Gradient Boosting"
   ]
  },
  {
   "cell_type": "code",
   "execution_count": null,
   "metadata": {},
   "outputs": [],
   "source": [
    "from sklearn.ensemble import GradientBoostingRegressor\n",
    "lr = GradientBoostingRegressor()\n",
    "lr.fit(features_train,labels_train)\n"
   ]
  },
  {
   "cell_type": "code",
   "execution_count": null,
   "metadata": {},
   "outputs": [],
   "source": [
    "pred = lr.predict(feature_test)"
   ]
  },
  {
   "cell_type": "code",
   "execution_count": null,
   "metadata": {},
   "outputs": [],
   "source": [
    "print(\"R2 score : %.2f\" % r2_score(label_test,pred))\n",
    "print(\"Mean squared error: %.2f\" % mean_squared_error(label_test,pred))\n",
    "print(\"Root mean squared error: %.2f\" %mean_squared_error(label_test,pred)**0.5)\n",
    "print(\"Mean absolute error: %.2f\" % mean_absolute_error(label_test, pred))"
   ]
  },
  {
   "cell_type": "markdown",
   "metadata": {},
   "source": [
    "## XGBoost"
   ]
  },
  {
   "cell_type": "code",
   "execution_count": null,
   "metadata": {},
   "outputs": [],
   "source": [
    "from xgboost import XGBRegressor\n",
    "xg = XGBRegressor()\n",
    "xg.fit(features_train,labels_train)"
   ]
  },
  {
   "cell_type": "code",
   "execution_count": null,
   "metadata": {},
   "outputs": [],
   "source": [
    "xgr = xg.predict(feature_test)"
   ]
  },
  {
   "cell_type": "code",
   "execution_count": null,
   "metadata": {},
   "outputs": [],
   "source": [
    "print(\"R2 score : %.2f\" % r2_score(label_test,xgr))\n",
    "print(\"Mean squared error: %.2f\" % mean_squared_error(label_test,xgr))\n",
    "print(\"Root mean squared error: %.2f\" %mean_squared_error(label_test,xgr)**0.5)\n",
    "print(\"Mean absolute error: %.2f\" % mean_absolute_error(label_test, xgr))"
   ]
  },
  {
   "cell_type": "markdown",
   "metadata": {},
   "source": [
    "## Random Forest"
   ]
  },
  {
   "cell_type": "code",
   "execution_count": null,
   "metadata": {},
   "outputs": [],
   "source": [
    "from sklearn.ensemble import RandomForestRegressor\n",
    "regressor = RandomForestRegressor(n_estimators = 10, random_state = 0)\n",
    "regressor.fit(features_train, labels_train)"
   ]
  },
  {
   "cell_type": "code",
   "execution_count": null,
   "metadata": {},
   "outputs": [],
   "source": [
    "reg = regressor.predict(feature_test)"
   ]
  },
  {
   "cell_type": "code",
   "execution_count": null,
   "metadata": {},
   "outputs": [],
   "source": [
    "print(\"R2 score : %.2f\" % r2_score(label_test,reg))\n",
    "print(\"Mean squared error: %.2f\" % mean_squared_error(label_test,reg))\n",
    "print(\"Root mean squared error: %.2f\" %mean_squared_error(label_test,reg)**0.5)\n",
    "print(\"Mean absolute error: %.2f\" % mean_absolute_error(label_test, reg))"
   ]
  },
  {
   "cell_type": "markdown",
   "metadata": {},
   "source": [
    "## Decision Tree"
   ]
  },
  {
   "cell_type": "code",
   "execution_count": null,
   "metadata": {},
   "outputs": [],
   "source": [
    "from sklearn.tree import DecisionTreeRegressor\n",
    "regressor = DecisionTreeRegressor(random_state = 0)\n",
    "regressor.fit(features_train, labels_train)"
   ]
  },
  {
   "cell_type": "code",
   "execution_count": null,
   "metadata": {},
   "outputs": [],
   "source": [
    "deg = regressor.predict(feature_test)"
   ]
  },
  {
   "cell_type": "code",
   "execution_count": null,
   "metadata": {},
   "outputs": [],
   "source": [
    "print(\"R2 score : %.2f\" % r2_score(label_test,deg))\n",
    "print(\"Mean squared error: %.2f\" % mean_squared_error(label_test,deg))\n",
    "print(\"Root mean squared error: %.2f\" %mean_squared_error(label_test,deg)**0.5)\n",
    "print(\"Mean absolute error: %.2f\" % mean_absolute_error(label_test, deg))"
   ]
  },
  {
   "cell_type": "code",
   "execution_count": null,
   "metadata": {},
   "outputs": [],
   "source": []
  }
 ],
 "metadata": {
  "kernelspec": {
   "display_name": "Python 3",
   "language": "python",
   "name": "python3"
  },
  "language_info": {
   "codemirror_mode": {
    "name": "ipython",
    "version": 3
   },
   "file_extension": ".py",
   "mimetype": "text/x-python",
   "name": "python",
   "nbconvert_exporter": "python",
   "pygments_lexer": "ipython3",
   "version": "3.8.3"
  }
 },
 "nbformat": 4,
 "nbformat_minor": 4
}
