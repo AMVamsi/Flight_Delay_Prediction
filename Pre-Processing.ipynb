{
 "cells": [
  {
   "cell_type": "markdown",
   "metadata": {},
   "source": [
    "# Flight & Weather "
   ]
  },
  {
   "cell_type": "code",
   "execution_count": null,
   "metadata": {},
   "outputs": [],
   "source": [
    "import json\n",
    "import pandas as pd\n",
    "import os\n",
    "import glob\n",
    "import matplotlib.pyplot as plt\n",
    "import sys\n",
    "import csv"
   ]
  },
  {
   "cell_type": "code",
   "execution_count": null,
   "metadata": {},
   "outputs": [],
   "source": [
    "df = pd.DataFrame()\n",
    "month={1:31,2:29,3:31,4:30,5:31,6:30,7:31,8:31,9:30,10:31,11:30,12:31}\n",
    "fol=['atl','clt','den','dfw','ewr','iah','jfk','las','lax','mia','mco','ord','sea','phx','sfo']\n",
    "for k in fol:\n",
    "    for j in month:\n",
    "        for i in range(1,month[j]+1):\n",
    "            d=\"2016-{}-{}\".format(f\"{j:02d}\",f\"{i:02d}\")\n",
    "            with open(r\"/Users/msml/Vamsi/SF_Project/weather/{}/16/2016-{}.json\".format(k,j)) as f:\n",
    "                data = json.load(f)\n",
    "            wsk=data['data']['weather'][i-1]['hourly']\n",
    "            df=pd.DataFrame(wsk)\n",
    "            #inserting the date and airport as the dataset don't contain then\n",
    "            df.insert(0, \"Date\",d)\n",
    "            df.insert(1, \"Airport\",k.upper())\n",
    "            os.chdir(r\"/Users/msml/Vamsi/SF_Project/weather/16/{}\".format(k))\n",
    "            df.to_csv(\"2016-{}-{}.csv\".format(f\"{j:02d}\",f\"{i:02d}\"))\n",
    "            df"
   ]
  },
  {
   "cell_type": "code",
   "execution_count": null,
   "metadata": {},
   "outputs": [],
   "source": [
    "#merging all the csv created from 2016-weather data\n",
    "os.chdir(\"/Users/msml/Vamsi/SF_Project/weather/16\")\n",
    "ext = 'csv'\n",
    "all_filenames = [i for i in glob.glob('*.{}'.format(ext))]\n",
    "combined_csv = pd.concat([pd.read_csv(f) for f in all_filenames ])\n",
    "combined_csv.to_csv( \"weather-16.csv\", index=False, encoding='utf-8-sig')"
   ]
  },
  {
   "cell_type": "code",
   "execution_count": null,
   "metadata": {},
   "outputs": [],
   "source": [
    "#merginng all the csv of the 2016-flight data\n",
    "os.chdir(\"/Users/msml/Vamsi/SF_Project/flight/2016\")\n",
    "ext = 'csv'\n",
    "all_filenames = [i for i in glob.glob('*.{}'.format(ext))]\n",
    "combined_csv = pd.concat([pd.read_csv(f) for f in all_filenames ])\n",
    "combined_csv.to_csv( \"flight-16.csv\", index=False, encoding='utf-8-sig')"
   ]
  },
  {
   "cell_type": "code",
   "execution_count": null,
   "metadata": {},
   "outputs": [],
   "source": [
    "df = pd.DataFrame()\n",
    "month={1:31,2:28,3:31,4:30,5:31,6:30,7:31,8:31,9:30,10:31,11:30,12:31}\n",
    "fol=['atl','clt','den','dfw','ewr','iah','jfk','las','lax','mia','mco','ord','sea','phx','sfo']\n",
    "for k in fol:\n",
    "    for j in month:\n",
    "        for i in range(1,month[j]+1):\n",
    "            d=\"2017-{}-{}\".format(f\"{j:02d}\",f\"{i:02d}\")\n",
    "            with open(r\"/Users/msml/Vamsi/SF_Project/weather/{}/17/2017-{}.json\".format(k,j)) as f:\n",
    "                data = json.load(f)\n",
    "            wsk=data['data']['weather'][i-1]['hourly']\n",
    "            df=pd.DataFrame(wsk)\n",
    "            #inserting the date and airport as the dataset don't contain then\n",
    "            df.insert(0, \"Date\",d)\n",
    "            df.insert(1, \"Airport\",k.upper())\n",
    "            os.chdir(r\"/Users/msml/Vamsi/SF_Project/weather/new/{}\".format(k))\n",
    "            df.to_csv(\"2017-{}-{}.csv\".format(f\"{j:02d}\",f\"{i:02d}\"))\n",
    "            df"
   ]
  },
  {
   "cell_type": "code",
   "execution_count": null,
   "metadata": {},
   "outputs": [],
   "source": [
    "fol=['atl','clt','den','dfw','ewr','iah','jfk','las','lax','mia','mco','ord','sea','phx','sfo']\n",
    "for k in fol:\n",
    "    os.chdir(\"/Users/msml/Vamsi/SF_Project/weather/new/{}\".format(k))\n",
    "    ext = 'csv'\n",
    "    all_filenames = [i for i in glob.glob('*.{}'.format(ext))]\n",
    "    combined_csv = pd.concat([pd.read_csv(f) for f in all_filenames ])\n",
    "    os.chdir(\"/Users/msml/Vamsi/SF_Project/weather/new\")\n",
    "    combined_csv.to_csv( \"{}-17.csv\".format(k), index=False, encoding='utf-8-sig')"
   ]
  },
  {
   "cell_type": "code",
   "execution_count": null,
   "metadata": {},
   "outputs": [],
   "source": [
    "#merging all the csv created from 2017-weather data\n",
    "os.chdir(\"/Users/msml/Vamsi/SF_Project/weather/17\")\n",
    "ext = 'csv'\n",
    "all_filenames = [i for i in glob.glob('*.{}'.format(ext))]\n",
    "combined_csv = pd.concat([pd.read_csv(f) for f in all_filenames ])\n",
    "combined_csv.to_csv( \"weather-17.csv\", index=False, encoding='utf-8-sig')"
   ]
  },
  {
   "cell_type": "code",
   "execution_count": null,
   "metadata": {},
   "outputs": [],
   "source": [
    "#merginng all the csv of the 2017-flight data\n",
    "os.chdir(\"/Users/msml/Vamsi/SF_Project/flight/2017\")\n",
    "ext = 'csv'\n",
    "all_filenames = [i for i in glob.glob('*.{}'.format(ext))]\n",
    "combined_csv = pd.concat([pd.read_csv(f) for f in all_filenames ])\n",
    "combined_csv.to_csv( \"flight-17.csv\", index=False, encoding='utf-8-sig')"
   ]
  },
  {
   "cell_type": "markdown",
   "metadata": {},
   "source": [
    "# 2016"
   ]
  },
  {
   "cell_type": "code",
   "execution_count": null,
   "metadata": {},
   "outputs": [],
   "source": [
    "df=pd.DataFrame()\n",
    "d1=pd.read_csv(\"/Users/msml/Vamsi/SF_Project/p_data/2016.csv\")\n",
    "df=pd.DataFrame(d1)\n",
    "df"
   ]
  },
  {
   "cell_type": "code",
   "execution_count": null,
   "metadata": {},
   "outputs": [],
   "source": [
    "df=pd.DataFrame()\n",
    "d1=pd.read_csv(\"/Users/msml/Vamsi/SF_Project/p_data/16W.csv\")\n",
    "df=pd.DataFrame(d1)\n",
    "df"
   ]
  },
  {
   "cell_type": "code",
   "execution_count": null,
   "metadata": {},
   "outputs": [],
   "source": [
    "airp={'ATL':10397,'CLT':11057,'DEN':11292,'DFW':11298,'EWR':11618,'IAH':12266,'JFK':12478,'LAS':12889,'LAX':12892,'MCO':13204,'MIA':13303,'ORD':13930,'PHX':14107,'SEA':14747,'SFO':14771}\n",
    "d1=pd.read_csv(\"/Users/msml/Vamsi/SF_Project/2016.csv\")\n",
    "d2=pd.read_csv(\"/Users/msml/Vamsi/SF_Project/16W.csv\")\n",
    "df1=pd.DataFrame(d1)\n",
    "df2=pd.DataFrame(d2)\n",
    "#rename the Date to make merging simpler \n",
    "df1=df1.rename(columns={\"FlightDate\":\"Date\"})\n",
    "#mapping the Airport with the ID\n",
    "df2['ID'] = df2['Airport'].map(airp)\n",
    "df1.sort_values(by=[\"Date\"])\n",
    "df2.sort_values(by=[\"Date\"])\n",
    "#rounding-off the time\n",
    "df2[\"time\"]=(df2[\"time\"]//100)*100\n",
    "df1[\"ArrTime\"]=(df1[\"ArrTime\"]//100)*100\n",
    "df1[\"DepTime\"]=(df1[\"DepTime\"]//100)*100\n",
    "#df1.head()\n",
    "#df2.tail()\n",
    "df1.to_csv(\"f16.csv\",index=False)\n",
    "df2.to_csv(\"w16.csv\",index=False)\n",
    "df2"
   ]
  },
  {
   "cell_type": "code",
   "execution_count": null,
   "metadata": {},
   "outputs": [],
   "source": [
    "airp={'ATL':10397,'CLT':11057,'DEN':11292,'DFW':11298,'EWR':11618,'IAH':12266,'JFK':12478,'LAS':12889,'LAX':12892,'MCO':13204,'MIA':13303,'ORD':13930,'PHX':14107,'SEA':14747,'SFO':14771}\n",
    "d1=pd.read_csv(\"/Users/msml/Vamsi/SF_Project/w16.csv\")\n",
    "d2=pd.read_csv(\"/Users/msml/Vamsi/SF_Project/w16.csv\")\n",
    "df1=pd.DataFrame(d1)\n",
    "df2=pd.DataFrame(d2)\n",
    "#renaming the columns to merge\n",
    "df1=df1.rename(columns={\"ID\":\"DestAirportID\",\"time\":\"ArrTime\"})\n",
    "df2=df2.rename(columns={\"ID\":\"OriginAirportID\",\"time\":\"DepTime\"})\n",
    "#creating two different csv with the same weather data\n",
    "df1.to_csv(\"w16-d.csv\",index=False)\n",
    "df2.to_csv(\"w16-o.csv\",index=False)\n",
    "df1.head()"
   ]
  },
  {
   "cell_type": "code",
   "execution_count": null,
   "metadata": {},
   "outputs": [],
   "source": [
    "df=pd.DataFrame()\n",
    "de=pd.DataFrame()\n",
    "d1=pd.read_csv(\"/Users/msml/Vamsi/SF_Project/f16.csv\")\n",
    "df1=pd.DataFrame(d1)\n",
    "d2=pd.read_csv(\"/Users/msml/Vamsi/SF_Project/w16-d.csv\")\n",
    "df2=pd.DataFrame(d2)\n",
    "#merging the filght and weather data at the Destination \n",
    "df3=pd.merge(df1,df2,on=[\"Date\",\"ArrTime\",\"DestAirportID\"],how=\"left\")\n",
    "df3.to_csv(\"16des.csv\",index=False)\n",
    "df3"
   ]
  },
  {
   "cell_type": "code",
   "execution_count": null,
   "metadata": {},
   "outputs": [],
   "source": [
    "df=pd.DataFrame()\n",
    "de=pd.DataFrame()\n",
    "d1=pd.read_csv(\"/Users/msml/Vamsi/SF_Project/16des.csv\")\n",
    "df1=pd.DataFrame(d1)\n",
    "d2=pd.read_csv(\"/Users/msml/Vamsi/SF_Project/w16-o.csv\")\n",
    "df2=pd.DataFrame(d2)\n",
    "#merging the weather data at the origin with the previous csv \n",
    "df3=pd.merge(df1,df2,on=[\"Date\",\"DepTime\",\"OriginAirportID\"],how=\"left\")\n",
    "df3.to_csv(\"16f.csv\",index=False)\n",
    "df3"
   ]
  },
  {
   "cell_type": "code",
   "execution_count": null,
   "metadata": {},
   "outputs": [],
   "source": [
    "df=pd.DataFrame()\n",
    "de=pd.DataFrame()\n",
    "d1=pd.read_csv(\"/Users/msml/Vamsi/SF_Project/16f.csv\")\n",
    "df1=pd.DataFrame(d1)\n",
    "#droping the rows containg null values\n",
    "df1=df1.dropna()\n",
    "df1.to_csv(\"nonull16.csv\")\n",
    "df1"
   ]
  },
  {
   "cell_type": "markdown",
   "metadata": {},
   "source": [
    "# 2017"
   ]
  },
  {
   "cell_type": "code",
   "execution_count": null,
   "metadata": {},
   "outputs": [],
   "source": [
    "airp={'ATL':10397,'CLT':11057,'DEN':11292,'DFW':11298,'EWR':11618,'IAH':12266,'JFK':12478,'LAS':12889,'LAX':12892,'MCO':13204,'MIA':13303,'ORD':13930,'PHX':14107,'SEA':14747,'SFO':14771}\n",
    "d1=pd.read_csv(\"/Users/msml/Vamsi/SF_Project/2017.csv\")\n",
    "d2=pd.read_csv(\"/Users/msml/Vamsi/SF_Project/17W.csv\")\n",
    "df1=pd.DataFrame(d1)\n",
    "df2=pd.DataFrame(d2)\n",
    "#rename the Date to make merging simpler \n",
    "df1=df1.rename(columns={\"FlightDate\":\"Date\"})\n",
    "#mapping the Airport with the ID\n",
    "df2['ID'] = df2['Airport'].map(airp)\n",
    "df1.sort_values(by=[\"Date\"])\n",
    "df2.sort_values(by=[\"Date\"])\n",
    "#rounding-off the time\n",
    "df2[\"time\"]=(df2[\"time\"]//100)*100\n",
    "df1[\"ArrTime\"]=(df1[\"ArrTime\"]//100)*100\n",
    "df1[\"DepTime\"]=(df1[\"DepTime\"]//100)*100\n",
    "#df1.head()\n",
    "#df2.tail()\n",
    "os.chdir(\"/Users/msml/Vamsi/SF_Project\")\n",
    "df1.to_csv(\"f17.csv\",index=False)\n",
    "df2.to_csv(\"w17.csv\",index=False)\n",
    "df2"
   ]
  },
  {
   "cell_type": "code",
   "execution_count": null,
   "metadata": {},
   "outputs": [],
   "source": [
    "airp={'ATL':10397,'CLT':11057,'DEN':11292,'DFW':11298,'EWR':11618,'IAH':12266,'JFK':12478,'LAS':12889,'LAX':12892,'MCO':13204,'MIA':13303,'ORD':13930,'PHX':14107,'SEA':14747,'SFO':14771}\n",
    "d1=pd.read_csv(\"/Users/msml/Vamsi/SF_Project/w17.csv\")\n",
    "d2=pd.read_csv(\"/Users/msml/Vamsi/SF_Project/w17.csv\")\n",
    "df1=pd.DataFrame(d1)\n",
    "df2=pd.DataFrame(d2)\n",
    "#renaming the columns to merge\n",
    "df1=df1.rename(columns={\"ID\":\"DestAirportID\",\"time\":\"ArrTime\"})\n",
    "df2=df2.rename(columns={\"ID\":\"OriginAirportID\",\"time\":\"DepTime\"})\n",
    "#creating two different csv with the same weather data\n",
    "df1.to_csv(\"w17-d.csv\",index=False)\n",
    "df2.to_csv(\"w17-o.csv\",index=False)\n",
    "df1.head()"
   ]
  },
  {
   "cell_type": "code",
   "execution_count": null,
   "metadata": {},
   "outputs": [],
   "source": [
    "df=pd.DataFrame()\n",
    "de=pd.DataFrame()\n",
    "d1=pd.read_csv(\"/Users/msml/Vamsi/SF_Project/f17.csv\")\n",
    "df1=pd.DataFrame(d1)\n",
    "d2=pd.read_csv(\"/Users/msml/Vamsi/SF_Project/w17-d.csv\")\n",
    "df2=pd.DataFrame(d2)\n",
    "#merging the filght and weather data at the Destination \n",
    "df3=pd.merge(df1,df2,on=[\"Date\",\"ArrTime\",\"DestAirportID\"],how=\"left\")\n",
    "df3.to_csv(\"17des.csv\",index=False)\n",
    "df3"
   ]
  },
  {
   "cell_type": "code",
   "execution_count": null,
   "metadata": {},
   "outputs": [],
   "source": [
    "df=pd.DataFrame()\n",
    "de=pd.DataFrame()\n",
    "d1=pd.read_csv(\"/Users/msml/Vamsi/SF_Project/17des.csv\")\n",
    "df1=pd.DataFrame(d1)\n",
    "d2=pd.read_csv(\"/Users/msml/Vamsi/SF_Project/w17-o.csv\")\n",
    "df2=pd.DataFrame(d2)\n",
    "#merging the weather data at the origin with the previous csv \n",
    "df3=pd.merge(df1,df2,on=[\"Date\",\"DepTime\",\"OriginAirportID\"],how=\"left\")\n",
    "df3.to_csv(\"f17.csv\",index=False)\n",
    "df3"
   ]
  },
  {
   "cell_type": "code",
   "execution_count": null,
   "metadata": {},
   "outputs": [],
   "source": [
    "df=pd.DataFrame()\n",
    "de=pd.DataFrame()\n",
    "d1=pd.read_csv(\"/Users/msml/Vamsi/SF_Project/f17.csv\")\n",
    "df1=pd.DataFrame(d1)\n",
    "#dropping the rows containg null values\n",
    "df1=df1.dropna()\n",
    "df1.to_csv(\"nonull17.csv\")\n",
    "df1"
   ]
  },
  {
   "cell_type": "code",
   "execution_count": null,
   "metadata": {},
   "outputs": [],
   "source": [
    "df=pd.DataFrame()\n",
    "de=pd.DataFrame()\n",
    "d1=pd.read_csv(\"/Users/msml/Vamsi/SF_Project/nonull17.csv\")\n",
    "df1=pd.DataFrame(d1)\n",
    "d2=pd.read_csv(\"/Users/msml/Vamsi/SF_Project/nonull16.csv\")\n",
    "df2=pd.DataFrame(d2)\n",
    "df3=pd.merge(df1,df2,how=\"outer\")\n",
    "#merging both csv with no null values \n",
    "df3.to_csv(\"fffffinal.csv\",index=False)#the complete csv file with all the flight and weather data \n",
    "df3"
   ]
  },
  {
   "cell_type": "code",
   "execution_count": null,
   "metadata": {},
   "outputs": [],
   "source": [
    "df=pd.DataFrame()\n",
    "de=pd.DataFrame()\n",
    "d1=pd.read_csv(\"/Users/msml/Vamsi/SF_Project/fffffinal.csv\")\n",
    "df1=pd.DataFrame(d1)\n",
    "df1"
   ]
  },
  {
   "cell_type": "code",
   "execution_count": null,
   "metadata": {},
   "outputs": [],
   "source": [
    "df2=df1.drop(columns=['Unnamed: 0'])\n",
    "df2.to_csv(\"Data.csv\")\n",
    "df2"
   ]
  }
 ],
 "metadata": {
  "kernelspec": {
   "display_name": "Python 3",
   "language": "python",
   "name": "python3"
  },
  "language_info": {
   "codemirror_mode": {
    "name": "ipython",
    "version": 3
   },
   "file_extension": ".py",
   "mimetype": "text/x-python",
   "name": "python",
   "nbconvert_exporter": "python",
   "pygments_lexer": "ipython3",
   "version": "3.8.3"
  }
 },
 "nbformat": 4,
 "nbformat_minor": 4
}
